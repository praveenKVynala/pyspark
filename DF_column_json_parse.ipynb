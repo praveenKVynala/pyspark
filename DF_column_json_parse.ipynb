{
 "cells": [
  {
   "cell_type": "code",
   "execution_count": 91,
   "metadata": {},
   "outputs": [],
   "source": [
    "df=spark.sql(\"select * from default.test_json_parse\")"
   ]
  },
  {
   "cell_type": "code",
   "execution_count": 4,
   "metadata": {},
   "outputs": [
    {
     "name": "stdout",
     "output_type": "stream",
     "text": [
      "+--------------------+\n",
      "|               jdata|\n",
      "+--------------------+\n",
      "|{  \"cars\": {    \"...|\n",
      "|{  \"cars\": {    \"...|\n",
      "|{  \"cars\": {    \"...|\n",
      "|{  \"cars\": {    \"...|\n",
      "|{  \"cars\": {    \"...|\n",
      "+--------------------+\n",
      "\n"
     ]
    }
   ],
   "source": [
    "df.show()"
   ]
  },
  {
   "cell_type": "code",
   "execution_count": 58,
   "metadata": {},
   "outputs": [],
   "source": [
    "from pyspark.sql.functions import *"
   ]
  },
  {
   "cell_type": "code",
   "execution_count": 7,
   "metadata": {},
   "outputs": [],
   "source": [
    "from pyspark.sql.types import *"
   ]
  },
  {
   "cell_type": "code",
   "execution_count": 97,
   "metadata": {},
   "outputs": [],
   "source": [
    "schema_car=StructType([StructField(\"cars\", StringType(), True)])\n",
    "schema_cars=StructType([StructField(\"car1\", StringType(), True),\n",
    "                       StructField(\"car2\", StringType(), True),\n",
    "                        StructField(\"car3\", StringType(), True)\n",
    "                       \n",
    "                       ])"
   ]
  },
  {
   "cell_type": "code",
   "execution_count": 88,
   "metadata": {},
   "outputs": [],
   "source": [
    "#{  \"cars\": {    \"car1\":\"Ford\",    \"car2\":\"BMW\",    \"car3\":\"Fiat\"  } }"
   ]
  },
  {
   "cell_type": "code",
   "execution_count": 86,
   "metadata": {},
   "outputs": [],
   "source": [
    "df1=df.select(from_json('jdata',schema_car).alias('cars')).\\\n",
    "select('cars.*').select(from_json('cars',schema_cars).alias('cars_info'))\\\n",
    ".select('cars_info.*')"
   ]
  },
  {
   "cell_type": "code",
   "execution_count": 87,
   "metadata": {},
   "outputs": [
    {
     "name": "stdout",
     "output_type": "stream",
     "text": [
      "+----+----+----+\n",
      "|car1|car2|car3|\n",
      "+----+----+----+\n",
      "|Ford| BMW|Fiat|\n",
      "|Ford| BMW|Fiat|\n",
      "|Ford| BMW|Fiat|\n",
      "|Ford| BMW|Fiat|\n",
      "|Ford| BMW|Fiat|\n",
      "+----+----+----+\n",
      "\n"
     ]
    }
   ],
   "source": [
    "df1.show()"
   ]
  },
  {
   "cell_type": "code",
   "execution_count": 147,
   "metadata": {},
   "outputs": [],
   "source": [
    "#'{\"array_1\": [{\"a\": \"1\", \"b\": \"1\"}],\"array_2\": [{\"a\": \"2\", \"b\": \"2\"}],\"array_3\": [{\"a\": \"3\", \"b\": \"3\"}]}'"
   ]
  },
  {
   "cell_type": "code",
   "execution_count": 146,
   "metadata": {},
   "outputs": [],
   "source": [
    "df_a=spark.sql(\"select * from default.test_json_array_parse\")\n",
    "#df_a.show(truncate=False)\n",
    "schema_array=StructType([StructField(\"array_1\", StringType(), True),\n",
    "                       StructField(\"array_2\", StringType(), True),\n",
    "                        StructField(\"array_3\", StringType(), True)\n",
    "                       \n",
    "                       ])\n",
    "\n",
    "schema_array_data=StructType([StructField(\"a\", StringType(), True),\n",
    "                       StructField(\"b\", StringType(), True)\n",
    "                       ])\n",
    "\n"
   ]
  },
  {
   "cell_type": "code",
   "execution_count": 145,
   "metadata": {},
   "outputs": [
    {
     "name": "stdout",
     "output_type": "stream",
     "text": [
      "+---+---+---+---+---+---+\n",
      "|  a|  b|  a|  b|  a|  b|\n",
      "+---+---+---+---+---+---+\n",
      "|  1|  1|  2|  2|  3|  3|\n",
      "|  1|  1|  2|  2|  3|  3|\n",
      "|  1|  1|  2|  2|  3|  3|\n",
      "|  1|  1|  2|  2|  3|  3|\n",
      "|  1|  1|  2|  2|  3|  3|\n",
      "+---+---+---+---+---+---+\n",
      "\n"
     ]
    }
   ],
   "source": [
    "df1_a=df_a.select(from_json('jadata',schema_array).alias('aaaa')).select('aaaa.*').\\\n",
    "    select(from_json('array_1',schema_array_data).alias('array_1'),\\\n",
    "    from_json('array_2',schema_array_data).alias('array_2'),\\\n",
    "    from_json('array_3',schema_array_data).alias('array_3')).\\\n",
    "select('array_1.*','array_2.*','array_3.*')\n",
    "df1_a.show()"
   ]
  },
  {
   "cell_type": "code",
   "execution_count": null,
   "metadata": {},
   "outputs": [],
   "source": [
    "\n"
   ]
  }
 ],
 "metadata": {
  "kernelspec": {
   "display_name": "Python 3",
   "language": "python",
   "name": "python3"
  },
  "language_info": {
   "codemirror_mode": {
    "name": "ipython",
    "version": 3
   },
   "file_extension": ".py",
   "mimetype": "text/x-python",
   "name": "python",
   "nbconvert_exporter": "python",
   "pygments_lexer": "ipython3",
   "version": "3.7.0"
  }
 },
 "nbformat": 4,
 "nbformat_minor": 2
}
