{
 "cells": [
  {
   "cell_type": "code",
   "execution_count": 1,
   "metadata": {},
   "outputs": [],
   "source": [
    "df=spark.sql(\"select * from default.test_json_parse\")"
   ]
  },
  {
   "cell_type": "code",
   "execution_count": 3,
   "metadata": {},
   "outputs": [
    {
     "name": "stdout",
     "output_type": "stream",
     "text": [
      "+---------------------------------------------------------------------+\n",
      "|jdata                                                                |\n",
      "+---------------------------------------------------------------------+\n",
      "|{  \"cars\": {    \"car1\":\"Ford\",    \"car2\":\"BMW\",    \"car3\":\"Fiat\"  } }|\n",
      "|{  \"cars\": {    \"car1\":\"Ford\",    \"car2\":\"BMW\",    \"car3\":\"Fiat\"  } }|\n",
      "|{  \"cars\": {    \"car1\":\"Ford\",    \"car2\":\"BMW\",    \"car3\":\"Fiat\"  } }|\n",
      "|{  \"cars\": {    \"car1\":\"Ford\",    \"car2\":\"BMW\",    \"car3\":\"Fiat\"  } }|\n",
      "|{  \"cars\": {    \"car1\":\"Ford\",    \"car2\":\"BMW\",    \"car3\":\"Fiat\"  } }|\n",
      "+---------------------------------------------------------------------+\n",
      "\n"
     ]
    }
   ],
   "source": [
    "df.show(truncate=False)"
   ]
  },
  {
   "cell_type": "code",
   "execution_count": 4,
   "metadata": {},
   "outputs": [],
   "source": [
    "from pyspark.sql.functions import *"
   ]
  },
  {
   "cell_type": "code",
   "execution_count": 5,
   "metadata": {},
   "outputs": [],
   "source": [
    "from pyspark.sql.types import *"
   ]
  },
  {
   "cell_type": "code",
   "execution_count": 6,
   "metadata": {},
   "outputs": [],
   "source": [
    "schema_car=StructType([StructField(\"cars\", StringType(), True)])\n",
    "\n",
    "\n",
    "schema_cars=StructType([StructField(\"car1\", StringType(), True),\n",
    "                       StructField(\"car2\", StringType(), True),\n",
    "                        StructField(\"car3\", StringType(), True)\n",
    "                       \n",
    "                       ])"
   ]
  },
  {
   "cell_type": "code",
   "execution_count": null,
   "metadata": {},
   "outputs": [],
   "source": [
    "#{  \"cars\": {    \"car1\":\"Ford\",    \"car2\":\"BMW\",    \"car3\":\"Fiat\"  } }"
   ]
  },
  {
   "cell_type": "code",
   "execution_count": 7,
   "metadata": {},
   "outputs": [],
   "source": [
    "df1=df.select(from_json('jdata',schema_car).alias('cars')).\\\n",
    "select('cars.*').select(from_json('cars',schema_cars).alias('cars_info'))\\\n",
    ".select('cars_info.*')"
   ]
  },
  {
   "cell_type": "code",
   "execution_count": 8,
   "metadata": {},
   "outputs": [
    {
     "name": "stdout",
     "output_type": "stream",
     "text": [
      "+----+----+----+\n",
      "|car1|car2|car3|\n",
      "+----+----+----+\n",
      "|Ford| BMW|Fiat|\n",
      "|Ford| BMW|Fiat|\n",
      "|Ford| BMW|Fiat|\n",
      "|Ford| BMW|Fiat|\n",
      "|Ford| BMW|Fiat|\n",
      "+----+----+----+\n",
      "\n"
     ]
    }
   ],
   "source": [
    "df1.show()"
   ]
  },
  {
   "cell_type": "code",
   "execution_count": null,
   "metadata": {},
   "outputs": [],
   "source": [
    "#'{\"array_1\": [{\"a\": \"1\", \"b\": \"1\"}],\"array_2\": [{\"a\": \"2\", \"b\": \"2\"}],\"array_3\": [{\"a\": \"3\", \"b\": \"3\"}]}'"
   ]
  },
  {
   "cell_type": "code",
   "execution_count": 9,
   "metadata": {},
   "outputs": [],
   "source": [
    "df_a=spark.sql(\"select * from default.test_json_array_parse\")\n",
    "#df_a.show(truncate=False)\n",
    "schema_array=StructType([StructField(\"array_1\", StringType(), True),\n",
    "                       StructField(\"array_2\", StringType(), True),\n",
    "                        StructField(\"array_3\", StringType(), True),\n",
    "                         StructField(\"array_4\", StringType(), True)\n",
    "                       \n",
    "                       ])\n",
    "\n",
    "schema_array_data=StructType([StructField(\"a\", StringType(), True),\n",
    "                       StructField(\"b\", StringType(), True)\n",
    "                       ])\n",
    "\n"
   ]
  },
  {
   "cell_type": "code",
   "execution_count": 10,
   "metadata": {},
   "outputs": [
    {
     "name": "stdout",
     "output_type": "stream",
     "text": [
      "+--------+--------+--------+--------+--------+--------+\n",
      "|array_1a|array_1b|array_2a|array_2b|array_3a|array_3b|\n",
      "+--------+--------+--------+--------+--------+--------+\n",
      "|       1|       1|       2|       2|       3|       3|\n",
      "|       1|       1|       2|       2|       3|       3|\n",
      "|       1|       1|       2|       2|       3|       3|\n",
      "|       1|       1|       2|       2|       3|       3|\n",
      "|       1|       1|       2|       2|       3|       3|\n",
      "+--------+--------+--------+--------+--------+--------+\n",
      "\n"
     ]
    }
   ],
   "source": [
    "df1_a=df_a.select(from_json('jadata',schema_array).alias('aaaa')).select('aaaa.*').\\\n",
    "    select(from_json('array_1',schema_array_data).alias('array_1'),\\\n",
    "    from_json('array_2',schema_array_data).alias('array_2'),\\\n",
    "    from_json('array_3',schema_array_data).alias('array_3')).\\\n",
    "    select(col('array_1.a').alias('array_1a'),col('array_1.b').alias('array_1b'),\\\n",
    "    col('array_2.a').alias('array_2a'),col('array_2.b').alias('array_2b'),\\\n",
    "    col('array_3.a').alias('array_3a'),col('array_3.b').alias('array_3b'))\n",
    "\n",
    "\n",
    "df1_a.show()"
   ]
  },
  {
   "cell_type": "code",
   "execution_count": 11,
   "metadata": {},
   "outputs": [],
   "source": []
  },
  {
   "cell_type": "code",
   "execution_count": 12,
   "metadata": {},
   "outputs": [
    {
     "name": "stdout",
     "output_type": "stream",
     "text": [
      "+--------------------+--------------------+-------+\n",
      "|            jsondata|              jadata|  ndata|\n",
      "+--------------------+--------------------+-------+\n",
      "|{\"cars\": {\"car1\":...|{\"array_1\": [{\"a\"...|   null|\n",
      "|{\"cars\": {\"car1\":...|{\"array_1\": [{\"a\"...|   null|\n",
      "|{\"cars\": {\"car1\":...|{\"array_1\": [{\"a\"...|   null|\n",
      "|{\"cars\": {\"car1\":...|{\"array_1\": [{\"a\"...|   null|\n",
      "|{\"cars\": {\"car1\":...|{\"array_1\": [{\"a\"...|   null|\n",
      "|                null|                null|testing|\n",
      "|                null|                null|testing|\n",
      "|                null|                null|testing|\n",
      "+--------------------+--------------------+-------+\n",
      "\n"
     ]
    }
   ],
   "source": [
    "jdf.show()"
   ]
  },
  {
   "cell_type": "code",
   "execution_count": 35,
   "metadata": {},
   "outputs": [
    {
     "name": "stdout",
     "output_type": "stream",
     "text": [
      "+----+----+----+--------+--------+--------+--------+--------+--------+--------+--------+-------+\n",
      "|car1|car2|car3|array_1a|array_1b|array_2a|array_2b|array_3a|array_3b|array_4a|array_4b|  ndata|\n",
      "+----+----+----+--------+--------+--------+--------+--------+--------+--------+--------+-------+\n",
      "|Ford| BMW|Fiat|       1|       1|       2|       2|       3|       3|    null|    null|   null|\n",
      "|Ford| BMW|Fiat|       1|       1|       2|       2|       3|       3|    null|    null|   null|\n",
      "|Ford| BMW|Fiat|       1|       1|       2|       2|       3|       3|    null|    null|   null|\n",
      "|Ford| BMW|Fiat|       1|       1|       2|       2|       3|       3|    null|    null|   null|\n",
      "|Ford| BMW|Fiat|       1|       1|       2|       2|       3|       3|    null|    null|   null|\n",
      "|null|null|null|    null|    null|    null|    null|    null|    null|    null|    null|testing|\n",
      "|null|null|null|    null|    null|    null|    null|    null|    null|    null|    null|testing|\n",
      "|null|null|null|    null|    null|    null|    null|    null|    null|    null|    null|testing|\n",
      "+----+----+----+--------+--------+--------+--------+--------+--------+--------+--------+-------+\n",
      "\n"
     ]
    }
   ],
   "source": [
    "from pyspark import StorageLevel\n",
    "\n",
    "\n",
    "jdf=spark.sql(\"select * from default.test_json_data_parse\")\n",
    "\n",
    "jdf.persist( StorageLevel.MEMORY_AND_DISK_2 )\n",
    "\n",
    "jdf1=jdf.select('ndata',from_json('jsondata',schema_car).alias('cars'),\\\n",
    "    from_json('jadata',schema_array).alias('array_data'))\n",
    "jdf.unpersist()\n",
    "jdf1.persist( StorageLevel.MEMORY_AND_DISK_2 )\n",
    "\n",
    "jdf2=jdf1.select('cars.*','array_data.*','ndata')\n",
    "\n",
    "jdf1.unpersist()\n",
    "jdf2.persist( StorageLevel.MEMORY_AND_DISK_2 )\n",
    "\n",
    "jdf3=jdf2.select(from_json('cars',schema_cars).alias('cars_info'),\\\n",
    "       'ndata',from_json('array_1',schema_array_data).alias('array_1'),\\\n",
    "    from_json('array_2',schema_array_data).alias('array_2'),\\\n",
    "    from_json('array_3',schema_array_data).alias('array_3'),\\\n",
    "      from_json('array_4',schema_array_data).alias('array_4'))\n",
    "\n",
    "jdf2.unpersist()\n",
    "jdf3.persist( StorageLevel.MEMORY_AND_DISK_2 )\n",
    "\n",
    "\n",
    "\n",
    "jdf4=jdf3.select('cars_info.*',col('array_1.a').alias('array_1a'),\\\n",
    "    col('array_1.b').alias('array_1b'),\\\n",
    "    col('array_2.a').alias('array_2a'),col('array_2.b').alias('array_2b'),\\\n",
    "    col('array_3.a').alias('array_3a'),col('array_3.b').alias('array_3b'),\\\n",
    "    col('array_4.a').alias('array_4a'),col('array_4.b').alias('array_4b'),'ndata')\n",
    "\n",
    "\n",
    "jdf3.unpersist()\n",
    "jdf4.persist( StorageLevel.MEMORY_AND_DISK_2 )\n",
    "jdf4.show()"
   ]
  },
  {
   "cell_type": "code",
   "execution_count": 36,
   "metadata": {},
   "outputs": [
    {
     "data": {
      "text/plain": [
       "8"
      ]
     },
     "execution_count": 36,
     "metadata": {},
     "output_type": "execute_result"
    }
   ],
   "source": [
    "jdf4.count()"
   ]
  },
  {
   "cell_type": "code",
   "execution_count": 37,
   "metadata": {},
   "outputs": [
    {
     "data": {
      "text/plain": [
       "DataFrame[car1: string, car2: string, car3: string, array_1a: string, array_1b: string, array_2a: string, array_2b: string, array_3a: string, array_3b: string, array_4a: string, array_4b: string, ndata: string]"
      ]
     },
     "execution_count": 37,
     "metadata": {},
     "output_type": "execute_result"
    }
   ],
   "source": [
    "jdf4.unpersist()"
   ]
  },
  {
   "cell_type": "code",
   "execution_count": 38,
   "metadata": {},
   "outputs": [
    {
     "data": {
      "text/plain": [
       "8"
      ]
     },
     "execution_count": 38,
     "metadata": {},
     "output_type": "execute_result"
    }
   ],
   "source": [
    "jdf4.count()"
   ]
  }
 ],
 "metadata": {
  "kernelspec": {
   "display_name": "Python 3",
   "language": "python",
   "name": "python3"
  },
  "language_info": {
   "codemirror_mode": {
    "name": "ipython",
    "version": 3
   },
   "file_extension": ".py",
   "mimetype": "text/x-python",
   "name": "python",
   "nbconvert_exporter": "python",
   "pygments_lexer": "ipython3",
   "version": "3.7.0"
  }
 },
 "nbformat": 4,
 "nbformat_minor": 2
}
